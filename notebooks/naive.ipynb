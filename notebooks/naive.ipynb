{
 "cells": [
  {
   "cell_type": "code",
   "execution_count": 1,
   "metadata": {},
   "outputs": [
    {
     "name": "stderr",
     "output_type": "stream",
     "text": [
      "┌ Info: Precompiling M4 [2195a5f3-7642-4e25-ac27-a7b8005e7ce1]\n",
      "└ @ Base loading.jl:1273\n",
      "WARNING: using StatsBase.predict in module M4 conflicts with an existing identifier.\n",
      "┌ Warning: /home/gleb/.julia/packages/Plots/12uaJ/src/Plots.jl/ is not an existing directory, Revise is not watching\n",
      "└ @ Revise /home/gleb/.julia/packages/Revise/SZ4ae/src/Revise.jl:489\n"
     ]
    }
   ],
   "source": [
    "using M4"
   ]
  },
  {
   "cell_type": "code",
   "execution_count": 2,
   "metadata": {},
   "outputs": [
    {
     "data": {
      "text/plain": [
       "Dict{String,SeriesInfo} with 100000 entries:\n",
       "  \"M45761\" => SeriesInfo(\"M45761\", \"Finance\", 12, \"Monthly\", 18, 0010-09-30T12:…\n",
       "  \"M26424\" => SeriesInfo(\"M26424\", \"Demographic\", 12, \"Monthly\", 18, 0092-04-30…\n",
       "  \"Y8539\"  => SeriesInfo(\"Y8539\", \"Micro\", 1, \"Yearly\", 6, 0077-12-31T12:00:00)\n",
       "  \"Y7057\"  => SeriesInfo(\"Y7057\", \"Micro\", 1, \"Yearly\", 6, 0069-01-01T12:00:00)\n",
       "  \"D2238\"  => SeriesInfo(\"D2238\", \"Finance\", 1, \"Daily\", 14, 0001-03-30T12:00:0…\n",
       "  \"Q7214\"  => SeriesInfo(\"Q7214\", \"Micro\", 4, \"Quarterly\", 8, 0091-01-31T12:00:…\n",
       "  \"Y3211\"  => SeriesInfo(\"Y3211\", \"Macro\", 1, \"Yearly\", 6, 0085-12-31T12:00:00)\n",
       "  \"Y5114\"  => SeriesInfo(\"Y5114\", \"Micro\", 1, \"Yearly\", 6, 0069-01-01T12:00:00)\n",
       "  \"M16981\" => SeriesInfo(\"M16981\", \"Micro\", 12, \"Monthly\", 18, 0008-08-31T12:00…\n",
       "  \"M44763\" => SeriesInfo(\"M44763\", \"Finance\", 12, \"Monthly\", 18, 0007-01-31T12:…\n",
       "  \"M43839\" => SeriesInfo(\"M43839\", \"Finance\", 12, \"Monthly\", 18, 0087-12-31T12:…\n",
       "  \"M21140\" => SeriesInfo(\"M21140\", \"Demographic\", 12, \"Monthly\", 18, 0000-01-01…\n",
       "  \"Y15723\" => SeriesInfo(\"Y15723\", \"Finance\", 1, \"Yearly\", 6, 0061-01-01T12:00:…\n",
       "  \"Y9927\"  => SeriesInfo(\"Y9927\", \"Micro\", 1, \"Yearly\", 6, 0087-12-31T12:00:00)\n",
       "  \"M11561\" => SeriesInfo(\"M11561\", \"Micro\", 12, \"Monthly\", 18, 0007-01-01T12:00…\n",
       "  \"M19274\" => SeriesInfo(\"M19274\", \"Micro\", 12, \"Monthly\", 18, 0010-01-31T12:00…\n",
       "  \"Q21634\" => SeriesInfo(\"Q21634\", \"Finance\", 4, \"Quarterly\", 8, 0091-02-28T12:…\n",
       "  \"Y8256\"  => SeriesInfo(\"Y8256\", \"Micro\", 1, \"Yearly\", 6, 0063-12-31T12:00:00)\n",
       "  \"Q567\"   => SeriesInfo(\"Q567\", \"Macro\", 4, \"Quarterly\", 8, 0090-01-01T12:00:0…\n",
       "  \"Q5639\"  => SeriesInfo(\"Q5639\", \"Micro\", 4, \"Quarterly\", 8, 0093-07-01T12:00:…\n",
       "  \"Y2224\"  => SeriesInfo(\"Y2224\", \"Macro\", 1, \"Yearly\", 6, 0063-12-31T12:00:00)\n",
       "  \"Q23193\" => SeriesInfo(\"Q23193\", \"Other\", 4, \"Quarterly\", 8, 0002-01-31T12:00…\n",
       "  \"Y21356\" => SeriesInfo(\"Y21356\", \"Finance\", 1, \"Yearly\", 6, 0095-12-31T12:00:…\n",
       "  \"Q11227\" => SeriesInfo(\"Q11227\", \"Micro\", 4, \"Quarterly\", 8, 0004-01-31T12:00…\n",
       "  \"Q10103\" => SeriesInfo(\"Q10103\", \"Micro\", 4, \"Quarterly\", 8, 0083-09-30T12:00…\n",
       "  ⋮        => ⋮"
      ]
     },
     "execution_count": 2,
     "metadata": {},
     "output_type": "execute_result"
    }
   ],
   "source": [
    "train_dict = read_series(\"../data/M4/Train/Monthly-train.csv\")\n",
    "test_dict = read_series(\"../data/M4/Test/Monthly-test.csv\")\n",
    "info_dict = read_info(\"../data/M4/M4-info.csv\")"
   ]
  },
  {
   "cell_type": "code",
   "execution_count": 3,
   "metadata": {},
   "outputs": [
    {
     "name": "stdout",
     "output_type": "stream",
     "text": [
      "Train size: 48000\n",
      "Test size: 48000\n"
     ]
    }
   ],
   "source": [
    "println(\"Train size: \", length(train_dict))\n",
    "println(\"Test size: \", length(test_dict))"
   ]
  },
  {
   "cell_type": "code",
   "execution_count": 4,
   "metadata": {},
   "outputs": [
    {
     "name": "stdout",
     "output_type": "stream",
     "text": [
      "NaiveForecaster(false)\n",
      "ForecastScore(15.256483534162772, 1.2051289868992616)\n",
      "NaiveForecaster(true)\n",
      "ForecastScore(15.988281562816871, 1.259717038281995)\n"
     ]
    }
   ],
   "source": [
    "trainers = [NaiveForecaster(false), NaiveForecaster(true)]\n",
    "\n",
    "for trainer in trainers\n",
    "    score_dict = evaluate(trainer, train_dict, test_dict, info_dict)\n",
    "    println(trainer)\n",
    "    println(calc_stats(score_dict))\n",
    "end"
   ]
  },
  {
   "cell_type": "code",
   "execution_count": null,
   "metadata": {},
   "outputs": [],
   "source": []
  }
 ],
 "metadata": {
  "kernelspec": {
   "display_name": "Julia 1.3.1",
   "language": "julia",
   "name": "julia-1.3"
  },
  "language_info": {
   "file_extension": ".jl",
   "mimetype": "application/julia",
   "name": "julia",
   "version": "1.3.1"
  }
 },
 "nbformat": 4,
 "nbformat_minor": 4
}
